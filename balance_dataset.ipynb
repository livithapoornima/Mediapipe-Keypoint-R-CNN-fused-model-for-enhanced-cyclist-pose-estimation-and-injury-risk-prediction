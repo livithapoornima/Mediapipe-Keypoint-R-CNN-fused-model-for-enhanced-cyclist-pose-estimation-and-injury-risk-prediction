{
 "cells": [
  {
   "cell_type": "code",
   "execution_count": 3,
   "metadata": {},
   "outputs": [
    {
     "name": "stdout",
     "output_type": "stream",
     "text": [
      "New class distribution: Counter({'High Risk': 273, 'No Risk': 273, 'Low Risk': 272})\n",
      "Balanced dataset saved successfully!\n"
     ]
    }
   ],
   "source": [
    "from imblearn.combine import SMOTETomek\n",
    "from collections import Counter\n",
    "import pandas as pd\n",
    "\n",
    "# Load dataset\n",
    "df = pd.read_excel(r\"C:\\PJT2\\Orbbec_Dataset_New\\Orbbec_Dataset\\Dataset\\CHECK DATASET\\checkdataset_2video_classified_dataset.xlsx\")\n",
    "\n",
    "# Separate features and target\n",
    "X = df.drop(columns=['risk_level'])  # Replace with actual output column\n",
    "y = df['risk_level']\n",
    "\n",
    "# Apply SMOTE + Undersampling\n",
    "smote_tomek = SMOTETomek(random_state=42)\n",
    "X_resampled, y_resampled = smote_tomek.fit_resample(X, y)\n",
    "\n",
    "# Check new class distribution\n",
    "print(\"New class distribution:\", Counter(y_resampled))\n",
    "\n",
    "# Convert back to DataFrame and save as Excel\n",
    "df_balanced = pd.DataFrame(X_resampled, columns=X.columns)\n",
    "df_balanced['risk_level'] = y_resampled\n",
    "df_balanced.to_excel(r\"C:\\PJT2\\Orbbec_Dataset_New\\Orbbec_Dataset\\Dataset\\CHECK DATASET\\checkdataset_2video_classified_balanceddataset.xlsx\", index=False)\n",
    "\n",
    "print(\"Balanced dataset saved successfully!\")\n"
   ]
  },
  {
   "cell_type": "code",
   "execution_count": null,
   "metadata": {},
   "outputs": [],
   "source": []
  }
 ],
 "metadata": {
  "kernelspec": {
   "display_name": "Python 3",
   "language": "python",
   "name": "python3"
  },
  "language_info": {
   "codemirror_mode": {
    "name": "ipython",
    "version": 3
   },
   "file_extension": ".py",
   "mimetype": "text/x-python",
   "name": "python",
   "nbconvert_exporter": "python",
   "pygments_lexer": "ipython3",
   "version": "3.10.0"
  }
 },
 "nbformat": 4,
 "nbformat_minor": 2
}
