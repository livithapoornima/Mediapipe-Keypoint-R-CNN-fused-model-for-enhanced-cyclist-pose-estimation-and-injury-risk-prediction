{
 "cells": [
  {
   "cell_type": "code",
   "execution_count": 5,
   "metadata": {},
   "outputs": [
    {
     "name": "stdout",
     "output_type": "stream",
     "text": [
      "Video 1: 76 frames saved in C:\\PJT2\\Orbbec_Dataset_New\\Orbbec_Dataset\\Dataset\\Frames\\video_1\n",
      "Video 2: 78 frames saved in C:\\PJT2\\Orbbec_Dataset_New\\Orbbec_Dataset\\Dataset\\Frames\\video_2\n"
     ]
    }
   ],
   "source": [
    "import cv2\n",
    "import os\n",
    "\n",
    "def extract_frames(video_paths, output_folder, target_frames=75):\n",
    "    \"\"\"\n",
    "    Extracts frames from multiple videos and saves them as images in separate folders.\n",
    "    \n",
    "    Parameters:\n",
    "    - video_paths: List of video file paths.\n",
    "    - output_folder: Base folder to save extracted frames.\n",
    "    - target_frames: Number of frames to extract per video.\n",
    "    \"\"\"\n",
    "    os.makedirs(output_folder, exist_ok=True)  # Ensure output folder exists\n",
    "    \n",
    "    for video_idx, video_path in enumerate(video_paths):\n",
    "        cap = cv2.VideoCapture(video_path)\n",
    "        if not cap.isOpened():\n",
    "            print(f\"Error: Cannot open video {video_path}\")\n",
    "            continue\n",
    "        \n",
    "        total_frames = int(cap.get(cv2.CAP_PROP_FRAME_COUNT))\n",
    "        frame_interval = max(1, total_frames // target_frames)  # Calculate frame extraction interval\n",
    "        \n",
    "        video_folder = os.path.join(output_folder, f\"video_{video_idx+1}\")\n",
    "        os.makedirs(video_folder, exist_ok=True)  # Create folder for each video\n",
    "        \n",
    "        frame_count = 0\n",
    "        saved_count = 0\n",
    "        \n",
    "        while cap.isOpened():\n",
    "            ret, frame = cap.read()\n",
    "            if not ret:\n",
    "                break\n",
    "            \n",
    "            if frame_count % frame_interval == 0:\n",
    "                frame_name = f\"frame_{saved_count:04d}.png\"\n",
    "                frame_path = os.path.join(video_folder, frame_name)\n",
    "                cv2.imwrite(frame_path, frame)  # Save the frame\n",
    "                saved_count += 1\n",
    "            \n",
    "            frame_count += 1\n",
    "        \n",
    "        cap.release()\n",
    "        print(f\"Video {video_idx+1}: {saved_count} frames saved in {video_folder}\")\n",
    "\n",
    "# Example usage\n",
    "video_paths = [\n",
    "    r\"C:\\PJT2\\Orbbec_Dataset_New\\Orbbec_Dataset\\Dataset\\videos\\video1.mp4\",\n",
    "    r\"C:\\PJT2\\Orbbec_Dataset_New\\Orbbec_Dataset\\Dataset\\videos\\video2.mp4\"\n",
    "]\n",
    "output_base_path = r\"C:\\PJT2\\Orbbec_Dataset_New\\Orbbec_Dataset\\Dataset\\Frames\"  # Change as needed\n",
    "\n",
    "extract_frames(video_paths, output_base_path, target_frames=75)\n"
   ]
  },
  {
   "cell_type": "code",
   "execution_count": 7,
   "metadata": {},
   "outputs": [
    {
     "name": "stdout",
     "output_type": "stream",
     "text": [
      "Extraction complete. 387 frames saved in C:\\PJT2\\Orbbec_Dataset_New\\Orbbec_Dataset\\Dataset\\videos\\Frames\\updated\n"
     ]
    }
   ],
   "source": [
    "import cv2\n",
    "import os\n",
    "\n",
    "def extract_all_frames(video_path, output_folder):\n",
    "    \"\"\"\n",
    "    Extracts all frames from a given video and saves them as images.\n",
    "    \n",
    "    Parameters:\n",
    "    - video_path: Path to the video file.\n",
    "    - output_folder: Folder to save the extracted frames.\n",
    "    \"\"\"\n",
    "    os.makedirs(output_folder, exist_ok=True)  # Ensure output folder exists\n",
    "    \n",
    "    cap = cv2.VideoCapture(video_path)\n",
    "    if not cap.isOpened():\n",
    "        print(f\"Error: Cannot open video {video_path}\")\n",
    "        return\n",
    "    \n",
    "    frame_count = 0\n",
    "    while True:\n",
    "        ret, frame = cap.read()\n",
    "        if not ret:\n",
    "            break  # Stop when no more frames are available\n",
    "        \n",
    "        frame_name = f\"frame_{frame_count:04d}.png\"\n",
    "        frame_path = os.path.join(output_folder, frame_name)\n",
    "        cv2.imwrite(frame_path, frame)  # Save the frame\n",
    "        \n",
    "        frame_count += 1\n",
    "    \n",
    "    cap.release()\n",
    "    print(f\"Extraction complete. {frame_count} frames saved in {output_folder}\")\n",
    "\n",
    "# Example usage\n",
    "video_path = r\"C:\\PJT2\\Orbbec_Dataset_New\\Orbbec_Dataset\\Dataset\\videos\\video2.mp4\"  # Replace with your video path\n",
    "output_folder = r\"C:\\PJT2\\Orbbec_Dataset_New\\Orbbec_Dataset\\Dataset\\videos\\Frames\\updated\"  # Change to desired path\n",
    "\n",
    "extract_all_frames(video_path, output_folder)\n"
   ]
  },
  {
   "cell_type": "code",
   "execution_count": 1,
   "metadata": {},
   "outputs": [
    {
     "name": "stdout",
     "output_type": "stream",
     "text": [
      "Frames extracted and saved in C:\\PJT2\\Orbbec_Dataset_New\\Orbbec_Dataset\\Dataset\\video1_output\n"
     ]
    },
    {
     "data": {
      "text/plain": [
       "426"
      ]
     },
     "execution_count": 1,
     "metadata": {},
     "output_type": "execute_result"
    }
   ],
   "source": [
    "import cv2\n",
    "import os\n",
    "\n",
    "def extract_frames(video_path, output_folder, start_count, max_frames):\n",
    "    # Create output folder if it doesn't exist\n",
    "    if not os.path.exists(output_folder):\n",
    "        os.makedirs(output_folder)\n",
    "    \n",
    "    # Open video file\n",
    "    cap = cv2.VideoCapture(video_path)\n",
    "    frame_count = start_count\n",
    "    frame_limit = start_count + max_frames\n",
    "    \n",
    "    while True:\n",
    "        ret, frame = cap.read()\n",
    "        if not ret or frame_count >= frame_limit:\n",
    "            break\n",
    "        \n",
    "        # Save frame as image\n",
    "        frame_filename = os.path.join(output_folder, f\"{frame_count}.jpg\")\n",
    "        cv2.imwrite(frame_filename, frame)\n",
    "        frame_count += 1\n",
    "    \n",
    "    # Release resources\n",
    "    cap.release()\n",
    "    print(f\"Frames extracted and saved in {output_folder}\")\n",
    "    return frame_count\n",
    "\n",
    "# Example usage\n",
    "video_path = r\"C:\\PJT2\\Orbbec_Dataset_New\\Orbbec_Dataset\\Dataset\\videos\\video1.mp4\"  # Change this to your video file path\n",
    "output_folder = r\"C:\\PJT2\\Orbbec_Dataset_New\\Orbbec_Dataset\\Dataset\\video1_output\"  # Single output folder for both videos\n",
    "\n",
    "frame_start = 226\n",
    "max_frames_per_video = 200\n",
    "extract_frames(video_path, output_folder, frame_start, max_frames_per_video)"
   ]
  },
  {
   "cell_type": "code",
   "execution_count": null,
   "metadata": {},
   "outputs": [],
   "source": []
  }
 ],
 "metadata": {
  "kernelspec": {
   "display_name": "Python 3",
   "language": "python",
   "name": "python3"
  },
  "language_info": {
   "codemirror_mode": {
    "name": "ipython",
    "version": 3
   },
   "file_extension": ".py",
   "mimetype": "text/x-python",
   "name": "python",
   "nbconvert_exporter": "python",
   "pygments_lexer": "ipython3",
   "version": "3.10.0"
  }
 },
 "nbformat": 4,
 "nbformat_minor": 2
}
